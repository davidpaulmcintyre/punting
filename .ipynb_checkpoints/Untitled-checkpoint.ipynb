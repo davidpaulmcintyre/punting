{
 "cells": [
  {
   "cell_type": "code",
   "execution_count": 14,
   "metadata": {},
   "outputs": [
    {
     "data": {
      "text/plain": [
       "50"
      ]
     },
     "execution_count": 14,
     "metadata": {},
     "output_type": "execute_result"
    }
   ],
   "source": [
    "import pandas as pd\n",
    "import numpy as np\n",
    "import sys \n",
    "from sklearn.ensemble import RandomForestClassifier\n",
    "from sklearn.model_selection import train_test_split \n",
    "# from sklearn.preprocessing import LabelEncoder \n",
    "from sklearn.preprocessing import OneHotEncoder\n",
    "from sklearn import metrics\n",
    "from sklearn.metrics import confusion_matrix "
   ]
  },
  {
   "cell_type": "code",
   "execution_count": 23,
   "metadata": {},
   "outputs": [
    {
     "name": "stderr",
     "output_type": "stream",
     "text": [
      "/Users/davidmcintyre/anaconda3/lib/python3.6/site-packages/IPython/core/interactiveshell.py:2698: DtypeWarning: Columns (25,51) have mixed types. Specify dtype option on import or set low_memory=False.\n",
      "  interactivity=interactivity, compiler=compiler, result=result)\n"
     ]
    },
    {
     "name": "stdout",
     "output_type": "stream",
     "text": [
      "done\n"
     ]
    },
    {
     "name": "stderr",
     "output_type": "stream",
     "text": [
      "/Users/davidmcintyre/anaconda3/lib/python3.6/site-packages/ipykernel_launcher.py:18: SettingWithCopyWarning: \n",
      "A value is trying to be set on a copy of a slice from a DataFrame.\n",
      "Try using .loc[row_indexer,col_indexer] = value instead\n",
      "\n",
      "See the caveats in the documentation: http://pandas.pydata.org/pandas-docs/stable/indexing.html#indexing-view-versus-copy\n",
      "/Users/davidmcintyre/anaconda3/lib/python3.6/site-packages/ipykernel_launcher.py:19: SettingWithCopyWarning: \n",
      "A value is trying to be set on a copy of a slice from a DataFrame.\n",
      "Try using .loc[row_indexer,col_indexer] = value instead\n",
      "\n",
      "See the caveats in the documentation: http://pandas.pydata.org/pandas-docs/stable/indexing.html#indexing-view-versus-copy\n"
     ]
    }
   ],
   "source": [
    "def get_punter_name(desc):\n",
    "#     desc field contains text such as \"(13:59) J.Ryan punts 57 yards...\"\n",
    "#     print(desc)\n",
    "    \n",
    "    if 'punts' in desc:\n",
    "        desc_words = desc.split()\n",
    "        ix_punts = desc_words.index('punts')\n",
    "        ix_punter_name = ix_punts - 1\n",
    "        return desc_words[ix_punter_name] if ix_punter_name > 0 else ''\n",
    "    return 'unknown'\n",
    "\n",
    "def muffed_punt(desc):\n",
    "#     desc field conventionally contains term 'for no gain.' if fumbled on catch\n",
    "    return 'for no gain.' in desc\n",
    "    \n",
    "df = pd.read_csv('nflplaybyplay2009to2016/NFL Play by Play 2009-2016 (v3).csv')\n",
    "df_punts =  df[(df.PlayType == 'Punt') & (df.Fumble == 1)]\n",
    "df_punts['Punter'] = df_punts.desc.apply(get_punter_name)\n",
    "df_punts['Muffed'] = df_punts.desc.apply(muffed_punt)\n",
    "# print(df_punts.PuntResult.unique()) ['Clean' 'Blocked']\n",
    "columns = ['Date', 'RecFumbTeam', 'Punter', 'Muffed', 'HomeTeam', 'AwayTeam', 'desc']\n",
    "df_punts[columns].to_csv('fumbles.csv', index=False)\n",
    "\n",
    "# \"for no gain\" indicates muffed punt\n",
    "# name before desc 'punts\n",
    "print('done')"
   ]
  },
  {
   "cell_type": "code",
   "execution_count": null,
   "metadata": {
    "collapsed": true
   },
   "outputs": [],
   "source": []
  }
 ],
 "metadata": {
  "kernelspec": {
   "display_name": "Python 3",
   "language": "python",
   "name": "python3"
  },
  "language_info": {
   "codemirror_mode": {
    "name": "ipython",
    "version": 3
   },
   "file_extension": ".py",
   "mimetype": "text/x-python",
   "name": "python",
   "nbconvert_exporter": "python",
   "pygments_lexer": "ipython3",
   "version": "3.6.3"
  }
 },
 "nbformat": 4,
 "nbformat_minor": 2
}
